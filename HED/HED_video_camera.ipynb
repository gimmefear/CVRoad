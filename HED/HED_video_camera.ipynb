{
 "cells": [
  {
   "cell_type": "code",
   "execution_count": 2,
   "metadata": {},
   "outputs": [],
   "source": [
    "import cv2\n",
    "import imutils\n",
    "from imutils.video import VideoStream\n",
    "import time"
   ]
  },
  {
   "cell_type": "code",
   "execution_count": 3,
   "metadata": {},
   "outputs": [],
   "source": [
    "class CropLayer(object):\n",
    "    def __init__(self, params, blobs):\n",
    "        # initialize our starting and ending (x, y)-coordinates of\n",
    "        # the crop\n",
    "        self.startX = 0\n",
    "        self.startY = 0\n",
    "        self.endX = 0\n",
    "        self.endY = 0\n",
    "\n",
    "    def getMemoryShapes(self, inputs):\n",
    "        # the crop layer will receive two inputs -- we need to crop\n",
    "        # the first input blob to match the shape of the second one,\n",
    "        # keeping the batch size and number of channels\n",
    "        (inputShape, targetShape) = (inputs[0], inputs[1])\n",
    "        (batchSize, numChannels) = (inputShape[0], inputShape[1])\n",
    "        (H, W) = (targetShape[2], targetShape[3])\n",
    "\n",
    "        # compute the starting and ending crop coordinates\n",
    "        self.startX = int((inputShape[3] - targetShape[3]) / 2)\n",
    "        self.startY = int((inputShape[2] - targetShape[2]) / 2)\n",
    "        self.endX = self.startX + W\n",
    "        self.endY = self.startY + H\n",
    "\n",
    "        # return the shape of the volume (we'll perform the actual\n",
    "        # crop during the forward pass\n",
    "        return [[batchSize, numChannels, H, W]]\n",
    "\n",
    "    def forward(self, inputs):\n",
    "        # use the derived (x, y)-coordinates to perform the crop\n",
    "        return [inputs[0][:, :, self.startY:self.endY,\n",
    "                self.startX:self.endX]]"
   ]
  },
  {
   "cell_type": "code",
   "execution_count": 4,
   "metadata": {},
   "outputs": [
    {
     "name": "stdout",
     "output_type": "stream",
     "text": [
      "[INFO] starting video stream...\n",
      "[INFO] loading edge detector...\n"
     ]
    }
   ],
   "source": [
    "print(\"Starting video stream...\")\n",
    "vs = VideoStream(src=0).start()\n",
    "time.sleep(2.0)\n",
    "print(\"Loading edge detector...\")\n",
    "protoPath = \"hed_model/deploy.prototxt\"\n",
    "modelPath = \"hed_model/hed_pretrained_bsds.caffemodel\"\n",
    "net = cv2.dnn.readNetFromCaffe(protoPath, modelPath)\n",
    "\n",
    "# register our new layer with the model\n",
    "cv2.dnn_registerLayer(\"Crop\", CropLayer)\n",
    "\n",
    "# loop over frames from the video stream\n",
    "while True:\n",
    "    # grab the next frame and handle if we are reading from either\n",
    "    # VideoCapture or VideoStream\n",
    "    frame = vs.read()\n",
    "    # resize the frame and grab its dimensions\n",
    "    frame = imutils.resize(frame, width=500)\n",
    "    (H, W) = frame.shape[:2]\n",
    "    # convert the frame to grayscale, blur it, and perform Canny\n",
    "    # edge detection\n",
    "    gray = cv2.cvtColor(frame, cv2.COLOR_BGR2GRAY)\n",
    "    blurred = cv2.GaussianBlur(gray, (5, 5), 0)\n",
    "    canny = cv2.Canny(blurred, 30, 150)\n",
    "\n",
    "    # construct a blob out of the input frame for the Holistically-Nested\n",
    "    # Edge Detector, set the blob, and perform a forward pass to\n",
    "    # compute the edges\n",
    "    blob = cv2.dnn.blobFromImage(frame, scalefactor=1.0, size=(W, H),\n",
    "        mean=(104.00698793, 116.66876762, 122.67891434),\n",
    "        swapRB=False, crop=False)\n",
    "    net.setInput(blob)\n",
    "    hed = net.forward()\n",
    "    hed = cv2.resize(hed[0, 0], (W, H))\n",
    "    hed = (255 * hed).astype(\"uint8\")\n",
    "\n",
    "    # show the output edge detection results for Canny and\n",
    "    # Holistically-Nested Edge Detection\n",
    "    cv2.imshow(\"Frame\", frame)\n",
    "    cv2.imshow(\"Canny\", canny)\n",
    "    cv2.imshow(\"HED\", hed)\n",
    "    key = cv2.waitKey(1) & 0xFF\n",
    "\n",
    "    # if the `q` key was pressed, break from the loop\n",
    "    if key == ord(\"q\"):\n",
    "        break\n",
    "\n",
    "# if we are using a webcam, stop the camera video stream\n",
    "vs.stop()\n",
    "# close any open windows\n",
    "cv2.destroyAllWindows()"
   ]
  },
  {
   "cell_type": "code",
   "execution_count": null,
   "metadata": {},
   "outputs": [],
   "source": []
  }
 ],
 "metadata": {
  "kernelspec": {
   "display_name": "Python 3",
   "language": "python",
   "name": "python3"
  },
  "language_info": {
   "codemirror_mode": {
    "name": "ipython",
    "version": 3
   },
   "file_extension": ".py",
   "mimetype": "text/x-python",
   "name": "python",
   "nbconvert_exporter": "python",
   "pygments_lexer": "ipython3",
   "version": "3.6.8"
  }
 },
 "nbformat": 4,
 "nbformat_minor": 2
}
