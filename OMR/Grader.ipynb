{
 "cells": [
  {
   "cell_type": "code",
   "execution_count": 1,
   "metadata": {},
   "outputs": [],
   "source": [
    "from imutils.perspective import four_point_transform\n",
    "from imutils import contours\n",
    "import numpy as np\n",
    "import argparse\n",
    "import imutils\n",
    "import cv2"
   ]
  },
  {
   "cell_type": "code",
   "execution_count": 2,
   "metadata": {},
   "outputs": [],
   "source": [
    "# определям правильные ответы на тест\n",
    "ANSWER_KEY = {0: 1, 1: 4, 2: 0, 3: 3, 4: 1}"
   ]
  },
  {
   "cell_type": "code",
   "execution_count": 3,
   "metadata": {},
   "outputs": [],
   "source": [
    "image = cv2.imread('images/test_01.png') # читаем картинку\n",
    "gray = cv2.cvtColor(image, cv2.COLOR_BGR2GRAY) # конвертируем в ч/б\n",
    "blurred = cv2.GaussianBlur(gray, (5, 5), 0) # применяем гауссовский фильтр\n",
    "edged = cv2.Canny(blurred, 75, 200) # используем Canny алгоритм для определения границ"
   ]
  },
  {
   "cell_type": "code",
   "execution_count": 4,
   "metadata": {},
   "outputs": [],
   "source": [
    "cnts = cv2.findContours(edged.copy(), cv2.RETR_EXTERNAL,\n",
    "    cv2.CHAIN_APPROX_SIMPLE) # находим контуры на картинке\n",
    "cnts = imutils.grab_contours(cnts)\n",
    "docCnt = None"
   ]
  },
  {
   "cell_type": "code",
   "execution_count": 5,
   "metadata": {},
   "outputs": [],
   "source": [
    "if len(cnts) > 0:\n",
    "    cnts = sorted(cnts, key=cv2.contourArea, reverse=True) # сортиурем контура по размеру в убывающем порядке\n",
    "\n",
    "    # итерируемся по контурам\n",
    "    for c in cnts:\n",
    "        # approximate the contour\n",
    "        peri = cv2.arcLength(c, True)\n",
    "        approx = cv2.approxPolyDP(c, 0.02 * peri, True)\n",
    "\n",
    "        # если апроксимированный контур имеет 4 точки\n",
    "        # значит мы нашли контур бумаги\n",
    "        if len(approx) == 4:\n",
    "            docCnt = approx\n",
    "            break"
   ]
  },
  {
   "cell_type": "code",
   "execution_count": 6,
   "metadata": {},
   "outputs": [],
   "source": [
    "# трансформируем изображение в вид \"сверху\"\n",
    "paper = four_point_transform(image, docCnt.reshape(4, 2))\n",
    "warped = four_point_transform(gray, docCnt.reshape(4, 2))"
   ]
  },
  {
   "cell_type": "code",
   "execution_count": 7,
   "metadata": {},
   "outputs": [],
   "source": [
    "# применим бинаризацию к изображению\n",
    "thresh = cv2.threshold(warped, 0, 255,\n",
    "    cv2.THRESH_BINARY_INV | cv2.THRESH_OTSU)[1]"
   ]
  },
  {
   "cell_type": "code",
   "execution_count": 8,
   "metadata": {},
   "outputs": [],
   "source": [
    "# ищем контур на бинаризованной картинке\n",
    "cnts = cv2.findContours(thresh.copy(), cv2.RETR_EXTERNAL,\n",
    "    cv2.CHAIN_APPROX_SIMPLE)\n",
    "cnts = imutils.grab_contours(cnts)\n",
    "questionCnts = []"
   ]
  },
  {
   "cell_type": "code",
   "execution_count": 9,
   "metadata": {},
   "outputs": [],
   "source": [
    "# ищем круглые контуры\n",
    "for c in cnts:\n",
    "    (x, y, w, h) = cv2.boundingRect(c)\n",
    "    ar = w / float(h)\n",
    "\n",
    "    # in order to label the contour as a question, region\n",
    "    # should be sufficiently wide, sufficiently tall, and\n",
    "    # have an aspect ratio approximately equal to 1\n",
    "    if w >= 20 and h >= 20 and ar >= 0.9 and ar <= 1.1:\n",
    "        questionCnts.append(c)"
   ]
  },
  {
   "cell_type": "code",
   "execution_count": 10,
   "metadata": {},
   "outputs": [],
   "source": [
    "# сортируем конутры сверху-вниз\n",
    "questionCnts = contours.sort_contours(questionCnts,\n",
    "    method=\"top-to-bottom\")[0]\n",
    "correct = 0"
   ]
  },
  {
   "cell_type": "code",
   "execution_count": 11,
   "metadata": {},
   "outputs": [
    {
     "name": "stdout",
     "output_type": "stream",
     "text": [
      "[INFO] score: 80.00%\n"
     ]
    },
    {
     "data": {
      "text/plain": [
       "32"
      ]
     },
     "execution_count": 11,
     "metadata": {},
     "output_type": "execute_result"
    }
   ],
   "source": [
    "# в вопросе 5 варинатов ответа, поэтому будем итерировать по 5 батчам\n",
    "for (q, i) in enumerate(np.arange(0, len(questionCnts), 5)):\n",
    "    \n",
    "    cnts = contours.sort_contours(questionCnts[i:i + 5])[0]\n",
    "    bubbled = None\n",
    "\n",
    "    # loop over the sorted contours\n",
    "    for (j, c) in enumerate(cnts):\n",
    "        # определим маску, которая будет выделять только закрашенный ответ\n",
    "        mask = np.zeros(thresh.shape, dtype=\"uint8\")\n",
    "        cv2.drawContours(mask, [c], -1, 255, -1)\n",
    "\n",
    "        # apply the mask to the thresholded image, then\n",
    "        # count the number of non-zero pixels in the\n",
    "        # bubble area\n",
    "        # применим маску к картинке и посчитаем кол-во ненулевых пикселей в круге\n",
    "        mask = cv2.bitwise_and(thresh, thresh, mask=mask)\n",
    "        total = cv2.countNonZero(mask)\n",
    "\n",
    "        # если кол-во не 0 пикселей больше, чем в остальных кругах\n",
    "        # выбираем этот круг как ответ\n",
    "        if bubbled is None or total > bubbled[0]:\n",
    "            bubbled = (total, j)\n",
    "\n",
    "    \n",
    "    color = (0, 0, 255)\n",
    "    k = ANSWER_KEY[q]\n",
    "\n",
    "    \n",
    "    if k == bubbled[1]:\n",
    "        color = (0, 255, 0)\n",
    "        correct += 1\n",
    "\n",
    "    cv2.drawContours(paper, [cnts[k]], -1, color, 3)\n",
    "\n",
    "score = (correct / 5.0) * 100\n",
    "print(\"[INFO] score: {:.2f}%\".format(score))\n",
    "cv2.putText(paper, \"{:.2f}%\".format(score), (10, 30),\n",
    "\tcv2.FONT_HERSHEY_SIMPLEX, 0.9, (0, 0, 255), 2)\n",
    "cv2.imshow(\"Original\", image)\n",
    "cv2.imshow(\"Exam\", paper)\n",
    "cv2.waitKey(0)"
   ]
  },
  {
   "cell_type": "code",
   "execution_count": null,
   "metadata": {},
   "outputs": [],
   "source": []
  }
 ],
 "metadata": {
  "kernelspec": {
   "display_name": "Python 3",
   "language": "python",
   "name": "python3"
  },
  "language_info": {
   "codemirror_mode": {
    "name": "ipython",
    "version": 3
   },
   "file_extension": ".py",
   "mimetype": "text/x-python",
   "name": "python",
   "nbconvert_exporter": "python",
   "pygments_lexer": "ipython3",
   "version": "3.6.8"
  }
 },
 "nbformat": 4,
 "nbformat_minor": 2
}
